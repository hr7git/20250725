{
  "nbformat": 4,
  "nbformat_minor": 0,
  "metadata": {
    "colab": {
      "provenance": [],
      "authorship_tag": "ABX9TyMI+Af81pllfMqDhnu6Dl1I",
      "include_colab_link": true
    },
    "kernelspec": {
      "name": "python3",
      "display_name": "Python 3"
    },
    "language_info": {
      "name": "python"
    }
  },
  "cells": [
    {
      "cell_type": "markdown",
      "metadata": {
        "id": "view-in-github",
        "colab_type": "text"
      },
      "source": [
        "<a href=\"https://colab.research.google.com/github/hr7git/20250725_JH/blob/main/20250730_JH1.ipynb\" target=\"_parent\"><img src=\"https://colab.research.google.com/assets/colab-badge.svg\" alt=\"Open In Colab\"/></a>"
      ]
    },
    {
      "cell_type": "code",
      "execution_count": null,
      "metadata": {
        "id": "ETcQB_7rJWIc"
      },
      "outputs": [],
      "source": []
    },
    {
      "cell_type": "code",
      "metadata": {
        "colab": {
          "base_uri": "https://localhost:8080/",
          "height": 53
        },
        "id": "3a3e173a",
        "outputId": "a1674b61-b2de-433b-a68e-56b71904581a"
      },
      "source": [
        "names = ['anna', 'thomans', 'tonny']\n",
        "names.sort()\n",
        "display(names)\n",
        "names.count('anna')"
      ],
      "execution_count": null,
      "outputs": [
        {
          "output_type": "display_data",
          "data": {
            "text/plain": [
              "['anna', 'thomans', 'tonny']"
            ]
          },
          "metadata": {}
        },
        {
          "output_type": "execute_result",
          "data": {
            "text/plain": [
              "1"
            ]
          },
          "metadata": {},
          "execution_count": 9
        }
      ]
    },
    {
      "cell_type": "code",
      "source": [
        "# 리스트안의 원소의 총수를 알고 싶어요\n",
        "len(names)\n"
      ],
      "metadata": {
        "colab": {
          "base_uri": "https://localhost:8080/"
        },
        "id": "dlDnFP-UPIAw",
        "outputId": "36fd71c6-caf2-4107-e617-19f7cea6032e"
      },
      "execution_count": null,
      "outputs": [
        {
          "output_type": "execute_result",
          "data": {
            "text/plain": [
              "3"
            ]
          },
          "metadata": {},
          "execution_count": 10
        }
      ]
    },
    {
      "cell_type": "code",
      "source": [
        "names.sort()\n",
        "display(names)"
      ],
      "metadata": {
        "colab": {
          "base_uri": "https://localhost:8080/",
          "height": 35
        },
        "id": "epPJejs4KWWB",
        "outputId": "5e92ebc7-3972-408b-bbcf-6fb6fc159da7"
      },
      "execution_count": null,
      "outputs": [
        {
          "output_type": "display_data",
          "data": {
            "text/plain": [
              "['anna', 'thomans', 'tonny']"
            ]
          },
          "metadata": {}
        }
      ]
    },
    {
      "cell_type": "code",
      "source": [],
      "metadata": {
        "id": "Am85k3XmKefj"
      },
      "execution_count": null,
      "outputs": []
    },
    {
      "cell_type": "markdown",
      "metadata": {
        "id": "a7fe8f30"
      },
      "source": [
        "# Task\n",
        "Create a Python list with the names \"anna\", \"thomans\", and \"tonny\". Implement a custom sorting function (not using built-in list methods) to sort this list alphabetically. Test the function with the list and explain the code."
      ]
    },
    {
      "cell_type": "markdown",
      "metadata": {
        "id": "b058ae2e"
      },
      "source": [
        "## Choose a sorting algorithm\n",
        "\n",
        "### Subtask:\n",
        "Choose a sorting algorithm: Decide on a sorting algorithm to implement (e.g., Bubble Sort, Insertion Sort, Merge Sort).\n"
      ]
    },
    {
      "cell_type": "markdown",
      "metadata": {
        "id": "ee2bc6dd"
      },
      "source": [
        "## Implement the sort function\n",
        "\n",
        "### Subtask:\n",
        "Write the Python code to implement the chosen sorting algorithm as a function that takes a list as input and returns a sorted list.\n"
      ]
    },
    {
      "cell_type": "markdown",
      "metadata": {
        "id": "cc5a26c3"
      },
      "source": [
        "**Reasoning**:\n",
        "Implement the Bubble Sort algorithm in a Python function that takes a list and returns the sorted list.\n",
        "\n"
      ]
    },
    {
      "cell_type": "code",
      "metadata": {
        "id": "02345017"
      },
      "source": [
        "def bubble_sort(input_list):\n",
        "  \"\"\"Sorts a list using the Bubble Sort algorithm.\n",
        "\n",
        "  Args:\n",
        "    input_list: The list to be sorted.\n",
        "\n",
        "  Returns:\n",
        "    The sorted list.\n",
        "  \"\"\"\n",
        "  n = len(input_list)\n",
        "  # Traverse through all list elements\n",
        "  for i in range(n):\n",
        "    # Last i elements are already in place\n",
        "    for j in range(0, n - i - 1):\n",
        "      # Swap if the element found is greater than the next element\n",
        "      if input_list[j] > input_list[j + 1]:\n",
        "        input_list[j], input_list[j + 1] = input_list[j + 1], input_list[j]\n",
        "  return input_list"
      ],
      "execution_count": null,
      "outputs": []
    },
    {
      "cell_type": "markdown",
      "metadata": {
        "id": "44c5bb45"
      },
      "source": [
        "## Test the sort function\n",
        "\n",
        "### Subtask:\n",
        "Test the function with the `names` list and display the result.\n"
      ]
    },
    {
      "cell_type": "markdown",
      "metadata": {
        "id": "c59ec708"
      },
      "source": [
        "**Reasoning**:\n",
        "Test the bubble_sort function with the names list and display the result.\n",
        "\n"
      ]
    },
    {
      "cell_type": "code",
      "metadata": {
        "colab": {
          "base_uri": "https://localhost:8080/",
          "height": 35
        },
        "id": "620400e4",
        "outputId": "3650b36d-bcb3-47c4-df77-31868e5baeab"
      },
      "source": [
        "sorted_names = bubble_sort(names)\n",
        "display(sorted_names)"
      ],
      "execution_count": null,
      "outputs": [
        {
          "output_type": "display_data",
          "data": {
            "text/plain": [
              "['anna', 'thomans', 'tonny']"
            ]
          },
          "metadata": {}
        }
      ]
    },
    {
      "cell_type": "markdown",
      "metadata": {
        "id": "b95b6216"
      },
      "source": [
        "## Explain the code\n",
        "\n",
        "### Subtask:\n",
        "Provide an explanation of how the custom sort function works.\n"
      ]
    },
    {
      "cell_type": "markdown",
      "metadata": {
        "id": "681bdbd0"
      },
      "source": [
        "**Reasoning**:\n",
        "Provide a clear and concise explanation of the bubble sort function, explaining the loops and the sorting logic.\n",
        "\n"
      ]
    },
    {
      "cell_type": "code",
      "metadata": {
        "colab": {
          "base_uri": "https://localhost:8080/",
          "height": 127
        },
        "id": "59097ad0",
        "outputId": "c2f6b2de-b464-4174-f227-284d5617a29f"
      },
      "source": [
        "explanation = \"\"\"\n",
        "The `bubble_sort` function sorts a list using the Bubble Sort algorithm.\n",
        "\n",
        "The outer loop (`for i in range(n):`) controls the number of passes through the list. In each pass, at least one element is placed in its correct sorted position. The number of passes required is at most n-1, where n is the length of the list.\n",
        "\n",
        "The inner loop (`for j in range(0, n - i - 1):`) iterates through the unsorted portion of the list. It compares adjacent elements (`input_list[j]` and `input_list[j + 1]`).\n",
        "\n",
        "If the current element (`input_list[j]`) is greater than the next element (`input_list[j + 1]`), they are swapped. This is done using simultaneous assignment: `input_list[j], input_list[j + 1] = input_list[j + 1], input_list[j]`.\n",
        "\n",
        "With each pass of the outer loop, the largest unsorted element \"bubbles up\" to its correct position at the end of the unsorted portion of the list. The inner loop's range (`n - i - 1`) decreases with each outer loop iteration because the last `i` elements are already sorted.\n",
        "\n",
        "Bubble Sort has a time complexity of O(n^2) in the worst and average cases, making it inefficient for large datasets.\n",
        "\"\"\"\n",
        "display(explanation)"
      ],
      "execution_count": null,
      "outputs": [
        {
          "output_type": "display_data",
          "data": {
            "text/plain": [
              "'\\nThe `bubble_sort` function sorts a list using the Bubble Sort algorithm.\\n\\nThe outer loop (`for i in range(n):`) controls the number of passes through the list. In each pass, at least one element is placed in its correct sorted position. The number of passes required is at most n-1, where n is the length of the list.\\n\\nThe inner loop (`for j in range(0, n - i - 1):`) iterates through the unsorted portion of the list. It compares adjacent elements (`input_list[j]` and `input_list[j + 1]`).\\n\\nIf the current element (`input_list[j]`) is greater than the next element (`input_list[j + 1]`), they are swapped. This is done using simultaneous assignment: `input_list[j], input_list[j + 1] = input_list[j + 1], input_list[j]`.\\n\\nWith each pass of the outer loop, the largest unsorted element \"bubbles up\" to its correct position at the end of the unsorted portion of the list. The inner loop\\'s range (`n - i - 1`) decreases with each outer loop iteration because the last `i` elements are already sorted.\\n\\nBubble Sort has a time complexity of O(n^2) in the worst and average cases, making it inefficient for large datasets.\\n'"
            ],
            "application/vnd.google.colaboratory.intrinsic+json": {
              "type": "string"
            }
          },
          "metadata": {}
        }
      ]
    },
    {
      "cell_type": "markdown",
      "metadata": {
        "id": "2a26e659"
      },
      "source": [
        "## Summary:\n",
        "\n",
        "### Data Analysis Key Findings\n",
        "\n",
        "*   The chosen sorting algorithm for this task was Bubble Sort due to its simplicity for a small list.\n",
        "*   A Python function named `bubble_sort` was implemented to perform the sorting without using built-in list methods.\n",
        "*   The `bubble_sort` function successfully sorted the initial list `['anna', 'thomans', 'tonny']` alphabetically to `['anna', 'thomans', 'tonny']`.\n",
        "*   The explanation provided details the mechanism of Bubble Sort, including the roles of the inner and outer loops, the swapping of adjacent elements, and its time complexity of O(n^2).\n",
        "\n",
        "### Insights or Next Steps\n",
        "\n",
        "*   While Bubble Sort is suitable for small lists, for larger datasets, more efficient sorting algorithms like Merge Sort or Quick Sort should be considered due to Bubble Sort's O(n^2) time complexity.\n"
      ]
    }
  ]
}